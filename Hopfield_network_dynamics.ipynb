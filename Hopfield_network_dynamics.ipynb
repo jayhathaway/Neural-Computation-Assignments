{
  "nbformat": 4,
  "nbformat_minor": 0,
  "metadata": {
    "kernelspec": {
      "display_name": "Python 3",
      "language": "python",
      "name": "python3"
    },
    "language_info": {
      "codemirror_mode": {
        "name": "ipython",
        "version": 3
      },
      "file_extension": ".py",
      "mimetype": "text/x-python",
      "name": "python",
      "nbconvert_exporter": "python",
      "pygments_lexer": "ipython3",
      "version": "3.7.6"
    },
    "colab": {
      "name": "Assignment_Hopfield.ipynb",
      "provenance": [],
      "collapsed_sections": []
    }
  },
  "cells": [
    {
      "cell_type": "markdown",
      "metadata": {
        "id": "o5iGLM9QeehZ",
        "colab_type": "text"
      },
      "source": [
        "## Hopfield network - part 1: memory storage and retrieval\n",
        "\n",
        "Build a Hopfield network with $nunits$ neurons, storing $npatterns$ orthogonal patterns in its synaptic weights.\n",
        "\n",
        "Neurons activity takes values $S_i=\\{\\pm1\\}$, for $i=1,\\ldots,nunits$.\n",
        "\n",
        "Input patterns take values $\\xi_i^\\mu=\\{\\pm1\\}$, for $i=1,\\ldots,nunits$ neurons and $\\mu=1,\\ldots,npatterns$ patterns.\n",
        "\n",
        "Test memory retrieval and the occurrence of spurious states \n"
      ]
    },
    {
      "cell_type": "code",
      "metadata": {
        "id": "S6ejEP_oeeha",
        "colab_type": "code",
        "colab": {}
      },
      "source": [
        "import numpy as np\n",
        "from matplotlib import pyplot as plt\n",
        "import matplotlib.cm as cm\n",
        "from itertools import combinations\n",
        "np.random.seed(1)\n"
      ],
      "execution_count": null,
      "outputs": []
    },
    {
      "cell_type": "markdown",
      "metadata": {
        "id": "HKKM5eL-eehd",
        "colab_type": "text"
      },
      "source": [
        "## Patterns\n",
        "\n",
        "- Create $npatterns=4$ orthogonal patterns $\\xi_i^\\mu$. We visualize neurons on a square grid.\n",
        "- Create random patterns, with probFlip of having $S_i=+1$."
      ]
    },
    {
      "cell_type": "code",
      "metadata": {
        "id": "lR9dMKI5eehd",
        "colab_type": "code",
        "colab": {
          "base_uri": "https://localhost:8080/",
          "height": 305
        },
        "outputId": "0093672b-866e-4830-c560-c1546f1aaabb"
      },
      "source": [
        "N1=16; # size of edge of square array\n",
        "nunits=N1**2 # neurons\n",
        "npatterns=4\n",
        "\n",
        "def generate_orth_patterns(nunits,npatterns):\n",
        "    train_data=np.zeros((npatterns,nunits))\n",
        "    N1=int(nunits**(1/2))\n",
        "    for ip in range(npatterns):\n",
        "        tempPattern=-np.ones((N1,N1))\n",
        "        for i in range(N1):\n",
        "            if (np.ceil((i+1)/(2**ip)) % 2 ==0):\n",
        "                tempPattern[i,:]=1 # top left to bottom right\n",
        "        train_data[ip,:]=tempPattern.flatten()\n",
        "    return train_data\n",
        "    \n",
        "def generate_rand_patterns(nunits,npatterns,probFlip):\n",
        "    #probFlip=probability of having +1 entry\n",
        "    train_data=-np.ones((npatterns,nunits))\n",
        "    N1=int(nunits**(1/2))\n",
        "    for ip in range(npatterns):\n",
        "        tempPattern=-np.ones(nunits)\n",
        "        indflip=(np.random.rand(nunits)<probFlip)\n",
        "        tempPattern[indflip]=1\n",
        "        train_data[ip,:]=tempPattern.flatten()\n",
        "    return train_data\n",
        "\n",
        "# plot patterns\n",
        "def plotpattern(pattern,ax,title='pattern'):\n",
        "    ax.matshow(np.reshape(pattern,[N1,N1]), cmap='Greys',interpolation='nearest')\n",
        "    ax.set_xticks([]); ax.set_yticks([]); ax.set_title(title)\n",
        "    \n",
        "train_data=generate_orth_patterns(nunits,npatterns)    \n",
        "# train_data=generate_rand_patterns(nunits,20,0.5)    \n",
        "\n",
        "nplot=npatterns\n",
        "fig,ax=plt.subplots(1,nplot,figsize=(20,5))\n",
        "for i in range(nplot):\n",
        "    plotpattern(train_data[i],ax[i],title='pattern %s' % i)\n",
        "plt.savefig(\"orthogonal_patterns4.png\")"
      ],
      "execution_count": null,
      "outputs": [
        {
          "output_type": "display_data",
          "data": {
            "image/png": "[encoded data removed]",
            "text/plain": [
              "<Figure size 1440x360 with 4 Axes>"
            ]
          },
          "metadata": {
            "tags": []
          }
        }
      ]
    },
    {
      "cell_type": "markdown",
      "metadata": {
        "id": "ZfI0Wr3Seehh",
        "colab_type": "text"
      },
      "source": [
        "Compute overlaps $m_{\\mu\\nu}$ between patterns (correlation): check that orthogonal patterns are orthogonal. Random patterns have small nonzero overlaps.\n",
        "\n",
        "$$\n",
        "m_{\\mu\\nu}={1\\over N}\\sum_{i=1}^N\\xi_i^\\mu\\xi_i^\\nu \\ .\n",
        "$$\n"
      ]
    },
    {
      "cell_type": "code",
      "metadata": {
        "id": "q9Fp3SPbeehh",
        "colab_type": "code",
        "colab": {
          "base_uri": "https://localhost:8080/",
          "height": 119
        },
        "outputId": "c7539016-a333-45f2-fd8f-af43ce2dea6d"
      },
      "source": [
        "def compute_overlap(pattern1,pattern2):\n",
        "    # returns: overlap between the patterns\n",
        "    shape1=pattern1.shape\n",
        "    if shape1 !=pattern2.shape:\n",
        "        raise ValueError(\"patterns have different shape!\")\n",
        "    dot_prod=np.dot(pattern1.flatten(),pattern2.flatten())\n",
        "    return float(dot_prod)/ (np.prod(shape1))\n",
        "\n",
        "def compute_overlap_list(reference_pattern,pattern_list):\n",
        "    overlap=np.zeros(len(pattern_list))\n",
        "    for i in range(0,len(pattern_list)):\n",
        "        overlap[i]=compute_overlap(reference_pattern,pattern_list[i])\n",
        "    return overlap\n",
        "\n",
        "def compute_overlap_matrix(pattern_list):\n",
        "    nr_patterns=len(pattern_list)\n",
        "    overlap=np.zeros((nr_patterns,nr_patterns))\n",
        "    for i in range(nr_patterns):\n",
        "        for k in range(i+1):\n",
        "            if i==k:\n",
        "                overlap[i,i]=1\n",
        "            else:\n",
        "                overlap[i,k]=compute_overlap(pattern_list[i],pattern_list[k])\n",
        "                overlap[k,i]=overlap[i,k]\n",
        "    return overlap\n",
        "\n",
        "overlap=compute_overlap(train_data[0],train_data[1])\n",
        "print(overlap)\n",
        "overlap=compute_overlap_list(train_data[0],train_data)\n",
        "print(overlap)\n",
        "overlap=compute_overlap_matrix(train_data)\n",
        "print(overlap)"
      ],
      "execution_count": null,
      "outputs": [
        {
          "output_type": "stream",
          "text": [
            "0.0\n",
            "[1. 0. 0. 0.]\n",
            "[[1. 0. 0. 0.]\n",
            " [0. 1. 0. 0.]\n",
            " [0. 0. 1. 0.]\n",
            " [0. 0. 0. 1.]]\n"
          ],
          "name": "stdout"
        }
      ]
    },
    {
      "cell_type": "markdown",
      "metadata": {
        "id": "opB1M-g8eehk",
        "colab_type": "text"
      },
      "source": [
        "Store first pattern in the synaptic weights $w_{ij}$:\n",
        "\n",
        "$$\n",
        "w_{ij}={1\\over N}\\xi^\\mu_i\\xi^\\mu_j-{1\\over N}\\delta_{ij} \\ ,\n",
        "$$\n",
        "where the last term enforces $w_{ii}=0$."
      ]
    },
    {
      "cell_type": "code",
      "metadata": {
        "id": "5vy4Bqqueehl",
        "colab_type": "code",
        "colab": {
          "base_uri": "https://localhost:8080/",
          "height": 297
        },
        "outputId": "85425573-bbaa-46b1-83d1-208a261fd1a6"
      },
      "source": [
        "weights0=np.outer(train_data[0],train_data[0])/nunits\n",
        "np.fill_diagonal(weights0,0)\n",
        "\n",
        "def plotweights(self,file=\"current_weight.png\"):\n",
        "    plt.figure(figsize=(5,4))\n",
        "    w_plot=plt.imshow(self,cmap=cm.coolwarm)\n",
        "    plt.colorbar(w_plot)\n",
        "    plt.title(\"Network weights\")\n",
        "    plt.xlabel(\"neurons\"); plt.ylabel(\"neurons\"); plt.tight_layout(); plt.savefig(file)\n",
        "    plt.show()\n",
        "    \n",
        "plotweights(weights0)"
      ],
      "execution_count": null,
      "outputs": [
        {
          "output_type": "display_data",
          "data": {
            "image/png": "[encoded data removed]",
            "text/plain": [
              "<Figure size 360x288 with 2 Axes>"
            ]
          },
          "metadata": {
            "tags": [],
            "needs_background": "light"
          }
        }
      ]
    },
    {
      "cell_type": "markdown",
      "metadata": {
        "id": "tvuTPs_4eehs",
        "colab_type": "text"
      },
      "source": [
        "## Recurrent dynamics\n",
        "\n",
        "Implement Hopfield network dynamics, using two different kinds of updates. Monitor the network energy function (Lyapunov function of the dynamics, monotonically decreasing):\n",
        "$$\n",
        "E=-{1\\over2}\\sum_{i,j}w_{ij}S_iS_j \\ ,\n",
        "$$\n",
        "\n",
        "1. Asynchronous updates at zero temperature. At each time step, pick a random neuron and update its value according to the rule:\n",
        "$$\n",
        "S_i(t+1)=sign[\\,h_i(t)+\\theta_i\\,] \\ ,\n",
        "$$ \n",
        "where $h_i(t)=\\sum_{j=1}^N w_{ij}S_j(t)$ is the neuron's input and $\\theta_i$ is an activation threshold.\n",
        "\n",
        "2. Asynchronous updates with nonzero temperature $T$. At each time step, pick a random neuron and update its value according to the probabilistic rule:\n",
        "$$\n",
        "Prob[S_i(t+1)=+1]={1\\over 1+e^{-2\\beta (h_i(t)+\\theta_i)}} \\ ,\n",
        "$$ \n",
        "where $h_i(t)=\\sum_{j=1}^N w_{ij}S_j(t)$ is the neuron's input and $\\theta_i$ is an activation threshold. $\\beta=1/T$ is the inverse temperature.\n",
        "\n",
        "3. Include early stopping for the deterministic dynamics when the energy reaches a minimum."
      ]
    },
    {
      "cell_type": "code",
      "metadata": {
        "id": "rIf1G860eehs",
        "colab_type": "code",
        "colab": {}
      },
      "source": [
        "def probspin(h,beta):\n",
        "    res=1/(1+np.exp(-2*beta*h))\n",
        "    return res\n",
        "\n",
        "def flow(pattern,weights,theta=0.,steps=50000,display=True,EarlyStop=True,T=0):\n",
        "    pattern_flat=pattern.flatten()\n",
        "    energy=[];\n",
        "    if (type(theta)==float) or (type(theta)==int):\n",
        "        thetas=np.zeros(len(pattern_flat))+theta\n",
        "    \n",
        "    for  step in range(steps):\n",
        "        unit1=np.random.randint(low=0,high=(len(pattern_flat)-1))\n",
        "        unit_weights=weights[unit1,:]\n",
        "        net_input=np.dot(unit_weights,pattern_flat)\n",
        "        if T==0:\n",
        "            pattern_flat[unit1]=1 if (net_input>thetas[unit1]) else -1\n",
        "        else:\n",
        "            pattern_flat[unit1]=1 if probspin(net_input-thetas[unit1],1/T)>np.random.rand(1) else -1\n",
        "        energytemp=-0.5*np.dot(np.dot(pattern_flat.T,weights),pattern_flat)\n",
        "        energy.append(energytemp)\n",
        "        if ((step % 200)==0) & display:\n",
        "            print(\"energy at step {:05d} is now {}\".format(step,energytemp))\n",
        "        if (step>200) & EarlyStop:\n",
        "            TOL=np.diff(energy[-1000:-1]).sum()\n",
        "            if (TOL==0):\n",
        "                #monitor changes in energy values, stop dynamics if no change found in 10 steps\n",
        "                if display:\n",
        "                    print(\"reached min of energy, stop dynamics\")\n",
        "                break            \n",
        "    evolved_pattern=pattern_flat\n",
        "    \n",
        "    return evolved_pattern\n"
      ],
      "execution_count": null,
      "outputs": []
    },
    {
      "cell_type": "markdown",
      "metadata": {
        "id": "Gfk-tRw8eehw",
        "colab_type": "text"
      },
      "source": [
        "## Memory retrieval\n",
        "\n",
        "Introduce a corrupt version $\\rho^{\\mu}_i(p)$ of the stored pattern $\\xi^\\mu_i$, where we flip a fraction $p$=flip_fraction of the pattern bits.  "
      ]
    },
    {
      "cell_type": "code",
      "metadata": {
        "id": "JC05Dv3Veehx",
        "colab_type": "code",
        "colab": {
          "base_uri": "https://localhost:8080/",
          "height": 336
        },
        "outputId": "47dc5e57-4c7c-4918-c8c2-505339e9f6c0"
      },
      "source": [
        "def noisify(pattern,flip_fraction):\n",
        "    noisy_pattern=pattern.copy()\n",
        "    lenpat=len(noisy_pattern)\n",
        "    choices=np.random.choice(lenpat,int(round(flip_fraction*lenpat)),replace=False)\n",
        "    noisy_pattern[choices]=-noisy_pattern[choices]\n",
        "    \n",
        "    return noisy_pattern\n",
        "\n",
        "noisy0=noisify(train_data[0],0.1)\n",
        "fig,ax=plt.subplots(1,2,figsize=(20,5))\n",
        "plotpattern(train_data[0],ax[0],title='stored pattern 0')\n",
        "plotpattern(noisy0,ax[1],title='noisy pattern 0')"
      ],
      "execution_count": null,
      "outputs": [
        {
          "output_type": "display_data",
          "data": {
            "image/png": "[encoded data removed]",
            "text/plain": [
              "<Figure size 1440x360 with 2 Axes>"
            ]
          },
          "metadata": {
            "tags": []
          }
        }
      ]
    },
    {
      "cell_type": "markdown",
      "metadata": {
        "id": "BRlk51s1eeh0",
        "colab_type": "text"
      },
      "source": [
        "Use the corrupt pattern $S_i(0)=\\rho^{\\mu}_i(p)$ as initial condition for the network dynamics. Does the network converge? Try to increase the fraction of bits flipped. When does retrieval stop working? \n",
        "\n",
        "Use the negative corrupt pattern $S_i(0)=-\\rho^{\\mu}_i(p)$ as initial condition, and let the network evolve. Where does the network converge to? "
      ]
    },
    {
      "cell_type": "code",
      "metadata": {
        "id": "n3DfnPYweeh1",
        "colab_type": "code",
        "colab": {},
        "outputId": "2517ffba-d3b0-4f7e-ecf6-3b5073ad2004"
      },
      "source": [
        "overlap=compute_overlap_list(noisy0,train_data)\n",
        "print('overlap of noisy pattern with training patterns %s\\n' % overlap)\n",
        "noisy_evolved0=flow(noisy0,weights0,theta=0,steps=10000,display=True)\n",
        "fig,ax=plt.subplots(1,2,figsize=(20,5))\n",
        "plotpattern(noisy0,ax[0],title='initial condition')\n",
        "plotpattern(noisy_evolved0,ax[1],title='retrieved pattern')\n",
        "overlap=compute_overlap_list(noisy_evolved0,train_data)\n",
        "print('overlap of retrieved pattern with training patterns %s\\n' % overlap)\n",
        "\n",
        "overlap=compute_overlap_list(-noisy0,train_data)\n",
        "print('overlap of -noisy pattern with training patterns %s\\n' % overlap)\n",
        "noisy_evolved0=flow(-noisy0,weights0,theta=0,steps=1000,display=True)\n",
        "fig,ax=plt.subplots(1,2,figsize=(20,5))\n",
        "plotpattern(-noisy0,ax[0],title='initial condition')\n",
        "plotpattern(noisy_evolved0,ax[1],title='retrieved pattern')\n",
        "overlap=compute_overlap_list(noisy_evolved0,train_data)\n",
        "print('overlap of retrieved pattern with training patterns %s\\n' % overlap)\n"
      ],
      "execution_count": null,
      "outputs": [
        {
          "output_type": "stream",
          "text": [
            "overlap of noisy pattern with training patterns [ 0.796875  0.015625  0.0625   -0.03125 ]\n",
            "\n",
            "energy at step 00000 is now -80.78125\n",
            "energy at step 00200 is now -104.625\n",
            "energy at step 00400 is now -117.6953125\n",
            "energy at step 00600 is now -123.53125\n",
            "energy at step 00800 is now -125.5078125\n",
            "energy at step 01000 is now -125.5078125\n",
            "energy at step 01200 is now -125.5078125\n",
            "energy at step 01400 is now -125.5078125\n",
            "energy at step 01600 is now -125.5078125\n",
            "reached min of energy, stop dynamics\n",
            "overlap of retrieved pattern with training patterns [ 0.9921875 -0.0078125 -0.0078125 -0.0078125]\n",
            "\n",
            "overlap of -noisy pattern with training patterns [-0.796875 -0.015625 -0.0625    0.03125 ]\n",
            "\n",
            "energy at step 00000 is now -80.78125\n",
            "energy at step 00200 is now -110.1328125\n",
            "energy at step 00400 is now -119.625\n",
            "energy at step 00600 is now -123.53125\n",
            "energy at step 00800 is now -125.5078125\n",
            "overlap of retrieved pattern with training patterns [-0.9921875  0.0078125  0.0078125  0.0078125]\n",
            "\n"
          ],
          "name": "stdout"
        },
        {
          "output_type": "display_data",
          "data": {
            "image/png": "[encoded data removed]",
            "text/plain": [
              "<Figure size 1440x360 with 2 Axes>"
            ]
          },
          "metadata": {
            "tags": []
          }
        },
        {
          "output_type": "display_data",
          "data": {
            "image/png": "[encoded data removed]",
            "text/plain": [
              "<Figure size 1440x360 with 2 Axes>"
            ]
          },
          "metadata": {
            "tags": []
          }
        }
      ]
    },
    {
      "cell_type": "markdown",
      "metadata": {
        "id": "H3leHThveeh4",
        "colab_type": "text"
      },
      "source": [
        "## Basin of attraction\n",
        "\n",
        "Calculate the basin of attraction of the pattern $\\xi^\\mu_i$, defined as value of the overlap $m[\\xi^\\mu_i,\\rho^{\\mu}_i(p)]$ for which pattern retrieval goes down to chance level. For each value of spin flip percentage $p$, run 5 times from random initial conditions and story the fraction of correctly retrieved patterns. \n",
        "\n",
        "Hint: calculate retrieval by increasing the percentage of spin flips $p$ of the corrupt initial condition $\\rho^{\\mu}_i(p)$.\n"
      ]
    },
    {
      "cell_type": "code",
      "metadata": {
        "id": "Z5AsBZuoeeh5",
        "colab_type": "code",
        "colab": {
          "base_uri": "https://localhost:8080/",
          "height": 316
        },
        "outputId": "c578ee1a-6968-4908-e575-f21f09361e9e"
      },
      "source": [
        "def basin(testpatterns,i_train,weights1,fset,nrepeats,T=0):\n",
        "    nfset=len(fset)\n",
        "    retrieval_f=np.zeros(nfset)\n",
        "    overlap_f=np.zeros(nfset)\n",
        "    trainpattern=testpatterns[i_train]\n",
        "    for ifset in range(nfset):\n",
        "        overlap_ic=[]\n",
        "        count=0\n",
        "        for icnt in range(nrepeats):\n",
        "            noisy_pattern=noisify(trainpattern,fset[ifset])\n",
        "            overlap_ic.append(compute_overlap(noisy_pattern,trainpattern))\n",
        "            recovered_pattern=flow(noisy_pattern,weights1,T,display=False)\n",
        "            overlap=compute_overlap_list(recovered_pattern,testpatterns)\n",
        "            count+=(overlap.argmax()==i_train)\n",
        "        overlap_f[ifset]=np.array(overlap_ic).mean()\n",
        "        retrieval_f[ifset]=count/nrepeats\n",
        "\n",
        "    print(overlap_f)\n",
        "    print(retrieval_f)\n",
        "    \n",
        "\n",
        "    fig,ax=plt.subplots(1,1,figsize=(10,5))\n",
        "    ax.plot(overlap_f, retrieval_f, linestyle='solid')\n",
        "    ax.set_title(\"pattern retrieval\")\n",
        "    ax.set_xlabel(\"overlap m\"); ax.set_ylabel(\"successful retrieval [%]\")\n",
        "    ax.plot([overlap_f.min(),overlap_f.max()],0.5*np.ones(2))\n",
        "\n",
        "    return overlap_f,retrieval_f\n",
        "\n",
        "nrepeats=5\n",
        "fset=np.linspace(0.1,1,10)\n",
        "test_patterns=np.concatenate((train_data,-train_data),axis=0)\n",
        "basin(test_patterns,0,weights0,fset,nrepeats)"
      ],
      "execution_count": null,
      "outputs": [
        {
          "output_type": "error",
          "ename": "NameError",
          "evalue": "ignored",
          "traceback": [
            "\u001b[0;31m---------------------------------------------------------------------------\u001b[0m",
            "\u001b[0;31mNameError\u001b[0m                                 Traceback (most recent call last)",
            "\u001b[0;32m<ipython-input-6-66eb4ab721e0>\u001b[0m in \u001b[0;36m<module>\u001b[0;34m()\u001b[0m\n\u001b[1;32m     31\u001b[0m \u001b[0mfset\u001b[0m\u001b[0;34m=\u001b[0m\u001b[0mnp\u001b[0m\u001b[0;34m.\u001b[0m\u001b[0mlinspace\u001b[0m\u001b[0;34m(\u001b[0m\u001b[0;36m0.1\u001b[0m\u001b[0;34m,\u001b[0m\u001b[0;36m1\u001b[0m\u001b[0;34m,\u001b[0m\u001b[0;36m10\u001b[0m\u001b[0;34m)\u001b[0m\u001b[0;34m\u001b[0m\u001b[0;34m\u001b[0m\u001b[0m\n\u001b[1;32m     32\u001b[0m \u001b[0mtest_patterns\u001b[0m\u001b[0;34m=\u001b[0m\u001b[0mnp\u001b[0m\u001b[0;34m.\u001b[0m\u001b[0mconcatenate\u001b[0m\u001b[0;34m(\u001b[0m\u001b[0;34m(\u001b[0m\u001b[0mtrain_data\u001b[0m\u001b[0;34m,\u001b[0m\u001b[0;34m-\u001b[0m\u001b[0mtrain_data\u001b[0m\u001b[0;34m)\u001b[0m\u001b[0;34m,\u001b[0m\u001b[0maxis\u001b[0m\u001b[0;34m=\u001b[0m\u001b[0;36m0\u001b[0m\u001b[0;34m)\u001b[0m\u001b[0;34m\u001b[0m\u001b[0;34m\u001b[0m\u001b[0m\n\u001b[0;32m---> 33\u001b[0;31m \u001b[0mbasin\u001b[0m\u001b[0;34m(\u001b[0m\u001b[0mtest_patterns\u001b[0m\u001b[0;34m,\u001b[0m\u001b[0;36m0\u001b[0m\u001b[0;34m,\u001b[0m\u001b[0mweights0\u001b[0m\u001b[0;34m,\u001b[0m\u001b[0mfset\u001b[0m\u001b[0;34m,\u001b[0m\u001b[0mnrepeats\u001b[0m\u001b[0;34m)\u001b[0m\u001b[0;34m\u001b[0m\u001b[0;34m\u001b[0m\u001b[0m\n\u001b[0m",
            "\u001b[0;32m<ipython-input-6-66eb4ab721e0>\u001b[0m in \u001b[0;36mbasin\u001b[0;34m(testpatterns, i_train, weights1, fset, nrepeats, T)\u001b[0m\n\u001b[1;32m      8\u001b[0m         \u001b[0mcount\u001b[0m\u001b[0;34m=\u001b[0m\u001b[0;36m0\u001b[0m\u001b[0;34m\u001b[0m\u001b[0;34m\u001b[0m\u001b[0m\n\u001b[1;32m      9\u001b[0m         \u001b[0;32mfor\u001b[0m \u001b[0micnt\u001b[0m \u001b[0;32min\u001b[0m \u001b[0mrange\u001b[0m\u001b[0;34m(\u001b[0m\u001b[0mnrepeats\u001b[0m\u001b[0;34m)\u001b[0m\u001b[0;34m:\u001b[0m\u001b[0;34m\u001b[0m\u001b[0;34m\u001b[0m\u001b[0m\n\u001b[0;32m---> 10\u001b[0;31m             \u001b[0mnoisy_pattern\u001b[0m\u001b[0;34m=\u001b[0m\u001b[0mnoisify\u001b[0m\u001b[0;34m(\u001b[0m\u001b[0mtrainpattern\u001b[0m\u001b[0;34m,\u001b[0m\u001b[0mfset\u001b[0m\u001b[0;34m[\u001b[0m\u001b[0mifset\u001b[0m\u001b[0;34m]\u001b[0m\u001b[0;34m)\u001b[0m\u001b[0;34m\u001b[0m\u001b[0;34m\u001b[0m\u001b[0m\n\u001b[0m\u001b[1;32m     11\u001b[0m             \u001b[0moverlap_ic\u001b[0m\u001b[0;34m.\u001b[0m\u001b[0mappend\u001b[0m\u001b[0;34m(\u001b[0m\u001b[0mcompute_overlap\u001b[0m\u001b[0;34m(\u001b[0m\u001b[0mnoisy_pattern\u001b[0m\u001b[0;34m,\u001b[0m\u001b[0mtrainpattern\u001b[0m\u001b[0;34m)\u001b[0m\u001b[0;34m)\u001b[0m\u001b[0;34m\u001b[0m\u001b[0;34m\u001b[0m\u001b[0m\n\u001b[1;32m     12\u001b[0m             \u001b[0mrecovered_pattern\u001b[0m\u001b[0;34m=\u001b[0m\u001b[0mflow\u001b[0m\u001b[0;34m(\u001b[0m\u001b[0mnoisy_pattern\u001b[0m\u001b[0;34m,\u001b[0m\u001b[0mweights1\u001b[0m\u001b[0;34m,\u001b[0m\u001b[0mT\u001b[0m\u001b[0;34m,\u001b[0m\u001b[0mdisplay\u001b[0m\u001b[0;34m=\u001b[0m\u001b[0;32mFalse\u001b[0m\u001b[0;34m)\u001b[0m\u001b[0;34m\u001b[0m\u001b[0;34m\u001b[0m\u001b[0m\n",
            "\u001b[0;31mNameError\u001b[0m: name 'noisify' is not defined"
          ]
        }
      ]
    },
    {
      "cell_type": "markdown",
      "metadata": {
        "id": "dlgWt-uNeeh8",
        "colab_type": "text"
      },
      "source": [
        "Store both first and second pattern and check their retrieval. Vary the level of overlap between the initial conditions and each pattern."
      ]
    },
    {
      "cell_type": "code",
      "metadata": {
        "id": "63kTvkQleeh8",
        "colab_type": "code",
        "colab": {
          "base_uri": "https://localhost:8080/",
          "height": 297
        },
        "outputId": "6cda943b-a64a-4527-8fc7-ec66db52dee1"
      },
      "source": [
        "def set_weights(patterns):\n",
        "    npatterns1,nunits1=patterns.shape\n",
        "    weights1=np.zeros((nunits1,nunits1))\n",
        "    for i in range(npatterns1):\n",
        "        weights1+=np.outer(patterns[i],patterns[i])\n",
        "    np.fill_diagonal(weights1,0)\n",
        "    out=weights1/nunits1\n",
        "    return out\n",
        "\n",
        "average_weights=set_weights(train_data[0:2])\n",
        "plotweights(average_weights)"
      ],
      "execution_count": null,
      "outputs": [
        {
          "output_type": "display_data",
          "data": {
            "image/png": "[encoded data removed]",
            "text/plain": [
              "<Figure size 360x288 with 2 Axes>"
            ]
          },
          "metadata": {
            "tags": [],
            "needs_background": "light"
          }
        }
      ]
    },
    {
      "cell_type": "code",
      "metadata": {
        "id": "fog2fCCreeh_",
        "colab_type": "code",
        "colab": {}
      },
      "source": [
        "noisy1=noisify(train_data[1],0.3)\n",
        "overlap=compute_overlap_list(noisy1,train_data)\n",
        "print('overlaps of noisy pattern 1 with training patterns %s' % overlap)\n",
        "recovered0=flow(noisy0,average_weights,theta=0,steps=2000,display=True)\n",
        "recovered1=flow(noisy1,average_weights,theta=0,steps=2000,display=True)\n",
        "\n",
        "# plot patterns\n",
        "fig,ax=plt.subplots(1,2,figsize=(6,4))\n",
        "plotpattern(noisy0,ax[0],title='noisy 0')\n",
        "plotpattern(noisy1,ax[1],title='noisy 1')\n",
        "\n",
        "# plot retrieved pattern\n",
        "fig,ax=plt.subplots(1,2,figsize=(6,4))\n",
        "plotpattern(recovered0,ax[0],title='retrieved 0')\n",
        "plotpattern(recovered1,ax[1],title='retrieved 1')\n",
        "\n"
      ],
      "execution_count": null,
      "outputs": []
    },
    {
      "cell_type": "markdown",
      "metadata": {
        "id": "au3MZIvGeeiC",
        "colab_type": "text"
      },
      "source": [
        "## Equidistant initial conditions\n",
        "An initial state that has equal overlap with both patterns ends up in either attractor randomly, \n",
        "because asynchronous updates introduce stochasticity."
      ]
    },
    {
      "cell_type": "code",
      "metadata": {
        "id": "724pfVg-eeiD",
        "colab_type": "code",
        "colab": {}
      },
      "source": [
        "pattern01=np.mean([train_data[0],train_data[1]],axis=0)\n",
        "fig,ax=plt.subplots(1,1,figsize=(6,4))\n",
        "plotpattern(pattern01,ax,title='pattern01')\n",
        "overlap=compute_overlap_list(pattern01,train_data)\n",
        "print('overlaps %s' % overlap)"
      ],
      "execution_count": null,
      "outputs": []
    },
    {
      "cell_type": "markdown",
      "metadata": {
        "id": "rovYOl3peeiF",
        "colab_type": "text"
      },
      "source": [
        "Run dynamics 10 times and plot retrieved patterns."
      ]
    },
    {
      "cell_type": "code",
      "metadata": {
        "id": "-w2bitVaeeiG",
        "colab_type": "code",
        "colab": {}
      },
      "source": [
        "recovered_pattern=np.zeros((10,nunits))\n",
        "for i in range(10):\n",
        "    recovered_pattern[i,:]=flow(pattern01,average_weights,theta=0,steps=10000,display=False)\n",
        "\n",
        "fig,ax=plt.subplots(1,10,figsize=(20,4))\n",
        "for i in range(10):\n",
        "    plotpattern(recovered_pattern[i],ax[i],title='retrieved %s' % i)\n"
      ],
      "execution_count": null,
      "outputs": []
    },
    {
      "cell_type": "markdown",
      "metadata": {
        "id": "nMDBjp2jeeiJ",
        "colab_type": "text"
      },
      "source": [
        "Store all patterns now, check we recover all of them."
      ]
    },
    {
      "cell_type": "code",
      "metadata": {
        "id": "_XcgRx81eeiJ",
        "colab_type": "code",
        "colab": {}
      },
      "source": [
        "allweights=set_weights(train_data)\n",
        "plotweights(allweights)\n",
        "\n",
        "# noisify each pattern\n",
        "noisy_patterns=np.zeros(train_data.shape)\n",
        "for i in range(npatterns):\n",
        "    noisy_patterns[i]=noisify(train_data[i],0.3)\n",
        "\n",
        "fig,ax=plt.subplots(1,4,figsize=(20,4))\n",
        "for i in range(npatterns):\n",
        "    plotpattern(noisy_patterns[i],ax[i],title='noisy %s' % i)\n",
        "\n",
        "recovered_pattern=np.zeros((npatterns,nunits))\n",
        "for i in range(npatterns):\n",
        "    recovered_pattern[i,:]=flow(noisy_patterns[i],allweights,theta=0,steps=50000,display=False)\n",
        "    overlap=compute_overlap_list(recovered_pattern[i,:],train_data)\n",
        "    print(overlap)\n",
        "plt.savefig(\"hopfield_orth4_noisy.png\")\n",
        "\n",
        "fig,ax=plt.subplots(1,4,figsize=(20,4))\n",
        "for i in range(npatterns):\n",
        "    plotpattern(recovered_pattern[i],ax[i],title='retrieved %s' % i)\n",
        "plt.savefig(\"hopfield_orth4_retrieval.png\")"
      ],
      "execution_count": null,
      "outputs": []
    },
    {
      "cell_type": "markdown",
      "metadata": {
        "id": "oeX9Xh7reeiM",
        "colab_type": "text"
      },
      "source": [
        "## Temperature and basins of attraction\n",
        "\n",
        "Generate random patterns, store them in the weights.\n",
        "\n",
        "- Check basins of attraction shrink when we increase T\n",
        "\n",
        "- Check basins of attraction shrink when we increase the number of patterns."
      ]
    },
    {
      "cell_type": "code",
      "metadata": {
        "id": "icSTwbNIeeiN",
        "colab_type": "code",
        "colab": {}
      },
      "source": [
        "# train_data=generate_orth_patterns(nunits,npatterns)    \n",
        "train_data=generate_rand_patterns(nunits,50,0.5)    \n",
        "\n",
        "allweights=set_weights(train_data[0:40])\n",
        "plotweights(allweights)\n",
        "nrepeats=10\n",
        "fset=np.linspace(0.1,1,10)\n",
        "test_patterns=np.concatenate((train_data,-train_data),axis=0)\n",
        "basin(test_patterns,0,allweights,fset,nrepeats,T=0)"
      ],
      "execution_count": null,
      "outputs": []
    },
    {
      "cell_type": "markdown",
      "metadata": {
        "id": "8Yr8chx3eeiR",
        "colab_type": "text"
      },
      "source": [
        "Spurious state: combination of 3 patterns!"
      ]
    },
    {
      "cell_type": "code",
      "metadata": {
        "id": "u8fjvq-eeeiS",
        "colab_type": "code",
        "colab": {}
      },
      "source": [
        "spurious=np.sign(train_data[0]-train_data[1]+train_data[2])\n",
        "overlap=compute_overlap_list(spurious,train_data)\n",
        "print('overlap %s' % overlap)\n",
        "spurious=noisify(spurious,0.1)\n",
        "recovered_pattern=flow(spurious,allweights,theta=0,steps=50000,display=True)\n",
        "# check that for T>0.46 the spurious state disappears!!\n",
        "# recovered_pattern=flow(spurious,allweights,theta=0,steps=50000,display=True,T=0.5)\n",
        "# plot patterns\n",
        "fig,ax=plt.subplots(1,2,figsize=(6,4))\n",
        "plotpattern(spurious,ax[0],title='spurious')\n",
        "plotpattern(recovered_pattern,ax[1],title='retrieved')\n",
        "plt.savefig(\"hopfield_orth_spurious.png\")\n",
        "overlap=compute_overlap_list(recovered_pattern,train_data)\n",
        "print(overlap)"
      ],
      "execution_count": null,
      "outputs": []
    },
    {
      "cell_type": "markdown",
      "metadata": {
        "id": "E-SmTltbeeiX",
        "colab_type": "text"
      },
      "source": [
        "Calculate basin of attraction of spurious states. When do spurious states stop being a fixed point?"
      ]
    },
    {
      "cell_type": "code",
      "metadata": {
        "id": "baN0Hh-ceeiY",
        "colab_type": "code",
        "colab": {}
      },
      "source": [
        "# check that spurious states disappear at T=0.46\n",
        "fset=np.linspace(0.,1,10)\n",
        "nrepeats=5\n",
        "# print(spurious.shape)\n",
        "# print(train_data.shape)\n",
        "spurious0=spurious[np.newaxis, :]\n",
        "test_patterns=np.concatenate((spurious0,train_data,-train_data),axis=0)\n",
        "basin(test_patterns,0,allweights,fset,nrepeats,T=0.5)"
      ],
      "execution_count": null,
      "outputs": []
    },
    {
      "cell_type": "markdown",
      "metadata": {
        "id": "H6H2UBpNeeib",
        "colab_type": "text"
      },
      "source": [
        "## Robustness to brain damage\n",
        "Set a fraction of the synaptic weights to zero, see how the network performs!"
      ]
    },
    {
      "cell_type": "code",
      "metadata": {
        "id": "GLtOArTheeic",
        "colab_type": "code",
        "colab": {}
      },
      "source": [
        "allweights=set_weights(train_data[:,0:])\n",
        "fracDamage=0.6\n",
        "nDamage=int(np.array(len(allweights)*fracDamage).round())\n",
        "indDamage=np.random.permutation(len(allweights))\n",
        "indDamage=indDamage[0:nDamage]\n",
        "allweightsDamage=allweights\n",
        "allweightsDamage[indDamage]=0\n",
        "plotweights(allweightsDamage,file=\"hopfield_weights_damaged.png\")\n",
        "# noisify each pattern\n",
        "noisy_patterns=np.zeros(train_data.shape)\n",
        "for i in range(npatterns):\n",
        "    noisy_patterns[i]=noisify(train_data[i],0.1)\n",
        "\n",
        "fig,ax=plt.subplots(1,4,figsize=(20,4))\n",
        "for i in range(npatterns):\n",
        "    plotpattern(noisy_patterns[i],ax[i],title='noisy %s' % i)\n",
        "\n",
        "recovered_pattern=np.zeros((npatterns,nunits))\n",
        "for i in range(npatterns):\n",
        "    recovered_pattern[i,:]=flow(noisy_patterns[i],allweightsDamage,theta=0,steps=50000,display=False)\n",
        "    overlap=compute_overlap_list(recovered_pattern[i,:],train_data)\n",
        "    print(overlap)\n",
        "plt.savefig(\"hopfield_orth_damaged_ic.png\")\n",
        "\n",
        "fig,ax=plt.subplots(1,4,figsize=(20,4))\n",
        "for i in range(npatterns):\n",
        "    plotpattern(recovered_pattern[i],ax[i],title='retrieved %s' % i)\n",
        "plt.savefig(\"hopfield_orth_damaged_retrieval.png\")\n"
      ],
      "execution_count": null,
      "outputs": []
    },
    {
      "cell_type": "code",
      "metadata": {
        "id": "hDnhK4Zxeeif",
        "colab_type": "code",
        "colab": {}
      },
      "source": [
        "print(4)"
      ],
      "execution_count": null,
      "outputs": []
    },
    {
      "cell_type": "markdown",
      "metadata": {
        "id": "g0P3ozHbeeih",
        "colab_type": "text"
      },
      "source": [
        "## Exercise 1 [10 points]:  Hopfield network capacity.\n",
        "\n",
        "1. Store $p$ random patterns in a network with $N$ units. Each pattern is a random vector $\\xi_i^\\mu$ with values $\\{\\pm1\\}$ with equal probability.\n",
        "2. For each pattern $\\xi^\\mu$, $\\mu=1,\\ldots,p$, initialize the network with a noisy version $\\rho^\\mu$ of the pattern $\\xi^\\mu$ (use noisify and flip_fraction=0.05). Test successful pattern retrieval, namely, whether the retrieved pattern $S_i$ obtained by running the dynamics from initial condition $\\rho^\\mu$ has the largest overlap with the pattern $\\xi^\\mu$ among all other stored patterns. For each pattern, attempt retrieval starting from 5 different random initial conditions $\\rho^\\mu$ at fixed flip_fraction=0.05, and count a success if at least once in 5 the correct pattern $\\xi^\\mu$ is retrieved (this step is needed because if there's a small basin of attraction for $\\xi^\\mu$ then it's harder to retrieve the pattern). \n",
        "3. As a function of increasing $p$, find the largest $p_{max}$ beyond which a network storing $p$ patterns fails to successfully retrieve all of them: the capacity is then defined as $\\alpha_c(N)=p_{max}/N$. Calculate the capacity $\\alpha_c(N)$ as a function of increasing $N=10:100$, check that it converges to the theoretical value at large $N$, $\\alpha_c=0.138$.\n",
        "\n",
        "Bonus question (optional): improve capacity by replacing the Hebbian weights with the supervised perceptron learning rule (42.9) in [MacKay's book](http://www.inference.org.uk/itprnn/book.pdf). [10 bonus points]"
      ]
    },
    {
      "cell_type": "code",
      "metadata": {
        "id": "4l3VKEkneeih",
        "colab_type": "code",
        "colab": {},
        "outputId": "87406f7c-fa47-4ac3-9c87-5f200012da95"
      },
      "source": [
        "numunits = range(10,101)\n",
        "\n",
        "for N in numunits:\n",
        "    pmax = 0\n",
        "    for p in range(N):\n",
        "        storedpatterns=generate_rand_patterns(N,p,0.5)\n",
        "        weights=set_weights(storedpatterns)\n",
        "        allretrievalssuccessful = True\n",
        "        for mu in range(p):\n",
        "            retrievalsuccess = False\n",
        "            for i in range(5):\n",
        "                noisymu = noisify(storedpatterns[mu],0.05)\n",
        "                smu = flow(noisymu,weights,display=False)\n",
        "                overlaps = compute_overlap_list(smu,storedpatterns)\n",
        "                if np.argmax(overlaps)==mu:\n",
        "                    retrievalsuccess = True\n",
        "                    break\n",
        "                else:\n",
        "                    pass\n",
        "            if retrievalsuccess == False:\n",
        "                allretrievalssuccessful = False\n",
        "                break\n",
        "            else:\n",
        "                pass\n",
        "        if allretrievalssuccessful == False:\n",
        "            break\n",
        "        else:\n",
        "            pmax = p\n",
        "    plt.scatter(N,pmax/N)\n",
        "plt.title('Experimental Capacity vs Number of Units')\n",
        "plt.xlabel('Number of units')\n",
        "plt.ylabel('capacity')\n",
        "plt.show()\n",
        "                \n",
        "        "
      ],
      "execution_count": null,
      "outputs": [
        {
          "output_type": "display_data",
          "data": {
            "image/png": "[encoded data removed]",
            "text/plain": [
              "<Figure size 432x288 with 1 Axes>"
            ]
          },
          "metadata": {
            "tags": [],
            "needs_background": "light"
          }
        }
      ]
    },
    {
      "cell_type": "markdown",
      "metadata": {
        "id": "BS1mIYvWawOU",
        "colab_type": "text"
      },
      "source": [
        "It appears that the capacity tends near 0.138 as the number of units increases."
      ]
    },
    {
      "cell_type": "markdown",
      "metadata": {
        "id": "8MPKek_ueeim",
        "colab_type": "text"
      },
      "source": [
        "## Exercise 2 [15 points]:  Basin of attractions of stable states\n",
        "\n",
        "In this exercise, we will estimate the size of basins of attractions of the network stable fixed points. We start with a Hopfield network storing $p$ random patterns $\\xi_i^\\mu$ with $N$ units. Potential fixed points are given by the patterns $\\xi_i^\\mu$ and their opposite $-\\xi_i^\\mu$, plus the first spurious states, given by $\\xi_i^{sp}=sign(\\pm\\xi_i^{\\mu_1}\\pm \\xi_i^{\\mu_2}\\pm \\xi_i^{\\mu_3})$. Start with $N=100$, $p=10$ random patterns. To estimate the basin of attraction of a fixed point $\\xi_i$:\n",
        "1. Set initial conditions for the dynamics equal to a noisy version $\\rho_i(f)$ of the pattern $\\xi_i$ (use noisify and flip fraction=$f$)\n",
        "2. Calculate the overlap between the fixed point and the noisy initial condition $m(f,\\mu)={1\\over N}\\sum_{i=1}^N\\xi_i\\rho_i^\\mu(f)$. Run the dynamics and test whether the intended fixed point was retrieved. For each value of $f$ and each pattern, run dynamics starting from 5 random noisy initial conditions, and estimate the total fraction of correct retrievals.\n",
        "3. Plot the fraction of correct retrievals as a function of the overlaps $m$ between initial conditions and fixed points. The basin of attraction is defined as the value $m$ where retrieval drops below $50\\%$.\n",
        "\n",
        "# Question 1: \n",
        "For p=10, estimate the average size of the basin of attraction $m$ for the stored patterns $\\xi_i^\\mu$, for minus the stored patterns $-\\xi_i^\\mu$ and for the spurious states $\\xi_i^{sp}=sign(\\pm\\xi_i^{\\mu_1}\\pm \\xi_i^{\\mu_2}\\pm \\xi_i^{\\mu_3})$. What do you find?\n",
        "\n",
        "# Question 2: \n",
        "So far, we used asynchronous updates in a deterministic network without noise. Introduce a nonzero temperature T with probabilistic updates. For p=10,30, estimate the critical temperature $T_3$ beyond which the spurious states cannot be retrieved, and the critical temperature $T_c$ beyond which no stored patterns can be retrieved.\n",
        "\n",
        "# Question 3: \n",
        "Calculate $m$ in networks storing an increasingly large number of patterns $p=10:50$. How does $m$ depend on the total number of stored patterns $p$? Is there a value of $p$ for which the size of the basin of attraction goes to zero? "
      ]
    },
    {
      "cell_type": "markdown",
      "metadata": {
        "id": "f1FJn5qzZ7_0",
        "colab_type": "text"
      },
      "source": [
        "#Question 1 Solution"
      ]
    },
    {
      "cell_type": "code",
      "metadata": {
        "id": "-NVXKRHqekmV",
        "colab_type": "code",
        "colab": {}
      },
      "source": [
        "def basinmodified(testpatterns,i_train,weights1,fset,nrepeats,T=0, Display = False):\n",
        "    nfset=len(fset)\n",
        "    retrieval_f=np.zeros(nfset)\n",
        "    overlap_f=np.zeros(nfset)\n",
        "    trainpattern=testpatterns[i_train]\n",
        "    for ifset in range(nfset):\n",
        "        overlap_ic=[]\n",
        "        count=0\n",
        "        for icnt in range(nrepeats):\n",
        "            noisy_pattern=noisify(trainpattern,fset[ifset])\n",
        "            overlap_ic.append(compute_overlap(noisy_pattern,trainpattern))\n",
        "            recovered_pattern=flow(noisy_pattern,weights1,T,display=False)\n",
        "            overlap=compute_overlap_list(recovered_pattern,testpatterns)\n",
        "            count+=(overlap.argmax()==i_train)\n",
        "        overlap_f[ifset]=np.array(overlap_ic).mean()\n",
        "        retrieval_f[ifset]=count/nrepeats\n",
        "    if Display:\n",
        "      print(overlap_f)\n",
        "      print(retrieval_f)\n",
        "      \n",
        "\n",
        "      fig,ax=plt.subplots(1,1,figsize=(10,5))\n",
        "      ax.plot(overlap_f, retrieval_f, linestyle='solid')\n",
        "      ax.set_title(\"pattern retrieval\")\n",
        "      ax.set_xlabel(\"overlap m\"); ax.set_ylabel(\"successful retrieval [%]\")\n",
        "      ax.plot([overlap_f.min(),overlap_f.max()],0.5*np.ones(2))\n",
        "    \n",
        "    index = np.argmin(np.abs(retrieval_f -0.5))\n",
        "    basin = overlap_f[index]\n",
        "\n",
        "    return basin"
      ],
      "execution_count": null,
      "outputs": []
    },
    {
      "cell_type": "code",
      "metadata": {
        "id": "fLT9MMyzfqJr",
        "colab_type": "code",
        "colab": {}
      },
      "source": [
        "p = 10\n",
        "N = 100\n",
        "fset=np.linspace(0.1,1,30)\n",
        "\n",
        "storedpatterns=generate_rand_patterns(N,p,0.5)\n",
        "weights=set_weights(storedpatterns)\n",
        "\n",
        "minusstoredpatterns=(-1)*storedpatterns\n",
        "\n",
        "spuriousstates0=[]\n",
        "combs = combinations(range(10),3)\n",
        "ticker = 5\n",
        "for comb in combs:\n",
        "  if ticker == 0:\n",
        "    break\n",
        "  spuriousstates0.append(np.sign(storedpatterns[comb[0]]+storedpatterns[comb[1]]+storedpatterns[comb[2]]))\n",
        "  spuriousstates0.append(np.sign(storedpatterns[comb[0]]+storedpatterns[comb[1]]-storedpatterns[comb[2]]))\n",
        "  spuriousstates0.append(np.sign(storedpatterns[comb[0]]-storedpatterns[comb[1]]+storedpatterns[comb[2]]))\n",
        "  spuriousstates0.append(np.sign(-storedpatterns[comb[0]]+storedpatterns[comb[1]]+storedpatterns[comb[2]]))\n",
        "  spuriousstates0.append(np.sign(storedpatterns[comb[0]]-storedpatterns[comb[1]]-storedpatterns[comb[2]]))\n",
        "  spuriousstates0.append(np.sign(-storedpatterns[comb[0]]+storedpatterns[comb[1]]-storedpatterns[comb[2]]))\n",
        "  spuriousstates0.append(np.sign(-storedpatterns[comb[0]]-storedpatterns[comb[1]]+storedpatterns[comb[2]]))\n",
        "  spuriousstates0.append(np.sign(-storedpatterns[comb[0]]-storedpatterns[comb[1]]-storedpatterns[comb[2]]))\n",
        "  ticker -= 1\n",
        "\n",
        "spuriousstates=np.array(spuriousstates0) #list containing 40 spurious states\n",
        "\n",
        "testpatterns= np.concatenate((storedpatterns,minusstoredpatterns,spuriousstates)) # list containing stored patterns, their opposities, and 40 spurious states. Chose not to use all spurious states for runtime reasons. \n",
        "\n",
        "# calculate basins\n",
        "\n",
        "basins= np.zeros(60)\n",
        "for i in range(60):\n",
        "  basins[i]=basinmodified(testpatterns,i,weights,fset,5)\n",
        "\n",
        "\n",
        "meanbasins=[np.mean(basins[0:9]),np.mean(basins[9:19]),np.mean(basins[19:59])]\n",
        "errbasins =[np.std(basins[0:9]),np.std(basins[9:19]),np.std(basins[19:59])]\n",
        "                                                          \n",
        "\n",
        "\n",
        "\n",
        "\n"
      ],
      "execution_count": null,
      "outputs": []
    },
    {
      "cell_type": "code",
      "metadata": {
        "id": "Bi3AoBLyZoGz",
        "colab_type": "code",
        "colab": {
          "base_uri": "https://localhost:8080/",
          "height": 295
        },
        "outputId": "db88c111-b780-49c0-fb40-3718728f76f2"
      },
      "source": [
        "ind = np.arange(3)\n",
        "width = 0.35\n",
        "plt.bar(ind,meanbasins,width,yerr=errbasins)\n",
        "plt.ylabel('Overlap for 50 percent success')\n",
        "plt.xlabel('Type of fixed point')\n",
        "plt.xticks(ind,('Stored', '-Stored','Spurious'))\n",
        "plt.title('Basins of Attraction')\n",
        "plt.show()\n"
      ],
      "execution_count": null,
      "outputs": [
        {
          "output_type": "display_data",
          "data": {
            "image/png": "[encoded data removed]",
            "text/plain": [
              "<Figure size 432x288 with 1 Axes>"
            ]
          },
          "metadata": {
            "tags": [],
            "needs_background": "light"
          }
        }
      ]
    },
    {
      "cell_type": "markdown",
      "metadata": {
        "id": "yVvgp-QDZWwM",
        "colab_type": "text"
      },
      "source": [
        "The Stored and -Stored states have the same basin sizes, while the Spurious state requires a greater overlap on average to retrieve at 50 percent success. This is expected since the basin of attraction for the spurious state is smaller. "
      ]
    },
    {
      "cell_type": "markdown",
      "metadata": {
        "id": "Qk1_ObkHaguO",
        "colab_type": "text"
      },
      "source": [
        "#Question 2 Solution"
      ]
    },
    {
      "cell_type": "code",
      "metadata": {
        "id": "JRLQb8YqbDky",
        "colab_type": "code",
        "colab": {
          "base_uri": "https://localhost:8080/",
          "height": 295
        },
        "outputId": "fa24b16a-6edf-44d5-db1d-cf286690a45e"
      },
      "source": [
        "#p=10\n",
        "\n",
        "temps = np.linspace(.1,2,30)\n",
        "p=10\n",
        "N=100\n",
        "noise=0.1\n",
        "\n",
        "storedpatterns=generate_rand_patterns(N,p,0.5)\n",
        "weights=set_weights(storedpatterns)\n",
        "\n",
        "spuriousstates0=[]\n",
        "combs = combinations(range(p),3)\n",
        "ticker = 2\n",
        "for comb in combs:\n",
        "  if ticker == 0:\n",
        "    break\n",
        "  spuriousstates0.append(np.sign(storedpatterns[comb[0]]+storedpatterns[comb[1]]+storedpatterns[comb[2]]))\n",
        "  spuriousstates0.append(np.sign(storedpatterns[comb[0]]+storedpatterns[comb[1]]-storedpatterns[comb[2]]))\n",
        "  spuriousstates0.append(np.sign(storedpatterns[comb[0]]-storedpatterns[comb[1]]+storedpatterns[comb[2]]))\n",
        "  spuriousstates0.append(np.sign(-storedpatterns[comb[0]]+storedpatterns[comb[1]]+storedpatterns[comb[2]]))\n",
        "  spuriousstates0.append(np.sign(storedpatterns[comb[0]]-storedpatterns[comb[1]]-storedpatterns[comb[2]]))\n",
        "  spuriousstates0.append(np.sign(-storedpatterns[comb[0]]+storedpatterns[comb[1]]-storedpatterns[comb[2]]))\n",
        "  spuriousstates0.append(np.sign(-storedpatterns[comb[0]]-storedpatterns[comb[1]]+storedpatterns[comb[2]]))\n",
        "  spuriousstates0.append(np.sign(-storedpatterns[comb[0]]-storedpatterns[comb[1]]-storedpatterns[comb[2]]))\n",
        "  ticker -= 1\n",
        "\n",
        "spuriousstates=np.array(spuriousstates0) #list containing 16 spurious states\n",
        "\n",
        "testpatterns=np.concatenate((storedpatterns,-storedpatterns,spuriousstates))\n",
        "\n",
        "percentretrievedstored = []\n",
        "percentretrievedspurious= []\n",
        "\n",
        "for temp in temps:\n",
        "  countstored=0\n",
        "  countspurious=0\n",
        "  for i in range(testpatterns.shape[0]):\n",
        "\n",
        "    if i >= p and i < 2*p:\n",
        "      continue #skips retrieval process for minus spurious states\n",
        "\n",
        "    retrievalsuccess=False\n",
        "    \n",
        "    noisy = noisify(testpatterns[i],noise)\n",
        "    retrieved = flow(noisy,weights,display=False,T=temp)\n",
        "    overlaps = compute_overlap_list(retrieved,testpatterns)\n",
        "    if np.argmax(overlaps)==i:\n",
        "      retrievalsuccess = True\n",
        "        \n",
        "    if retrievalsuccess:\n",
        "      if i < p:\n",
        "        countstored +=1\n",
        "      else:\n",
        "        countspurious +=1\n",
        "  percentretrievedstored.append(countstored/p)\n",
        "  percentretrievedspurious.append(countspurious/spuriousstates.shape[0])\n",
        "\n",
        "plt.plot(temps,percentretrievedstored, label='stored')\n",
        "plt.title('Percentage of Patterns Retrieved vs Temperature with {} Patterns'.format(p))\n",
        "plt.ylabel('Percentage Retrieved')\n",
        "plt.xlabel('Temperature')\n",
        "plt.plot(temps,percentretrievedspurious,label='spurious')\n",
        "plt.legend()\n",
        "plt.show()\n",
        "\n",
        "\n",
        "\n",
        "\n",
        "\n",
        "\n",
        "\n",
        "\n",
        "\n",
        "\n",
        "\n"
      ],
      "execution_count": null,
      "outputs": [
        {
          "output_type": "display_data",
          "data": {
            "image/png": "[encoded data removed]",
            "text/plain": [
              "<Figure size 432x288 with 1 Axes>"
            ]
          },
          "metadata": {
            "tags": [],
            "needs_background": "light"
          }
        }
      ]
    },
    {
      "cell_type": "code",
      "metadata": {
        "id": "mr3icEnfXsSh",
        "colab_type": "code",
        "colab": {
          "base_uri": "https://localhost:8080/",
          "height": 295
        },
        "outputId": "4e6d272b-772d-42da-c352-fc2359323308"
      },
      "source": [
        "#p=30\n",
        "\n",
        "temps = np.linspace(.1,2,50)\n",
        "p=30\n",
        "N=100\n",
        "noise=0.05\n",
        "\n",
        "storedpatterns=generate_rand_patterns(N,p,0.5)\n",
        "weights=set_weights(storedpatterns)\n",
        "\n",
        "spuriousstates0=[]\n",
        "combs = combinations(range(p),3)\n",
        "ticker = 2\n",
        "for comb in combs:\n",
        "  if ticker == 0:\n",
        "    break\n",
        "  spuriousstates0.append(np.sign(storedpatterns[comb[0]]+storedpatterns[comb[1]]+storedpatterns[comb[2]]))\n",
        "  spuriousstates0.append(np.sign(storedpatterns[comb[0]]+storedpatterns[comb[1]]-storedpatterns[comb[2]]))\n",
        "  spuriousstates0.append(np.sign(storedpatterns[comb[0]]-storedpatterns[comb[1]]+storedpatterns[comb[2]]))\n",
        "  spuriousstates0.append(np.sign(-storedpatterns[comb[0]]+storedpatterns[comb[1]]+storedpatterns[comb[2]]))\n",
        "  spuriousstates0.append(np.sign(storedpatterns[comb[0]]-storedpatterns[comb[1]]-storedpatterns[comb[2]]))\n",
        "  spuriousstates0.append(np.sign(-storedpatterns[comb[0]]+storedpatterns[comb[1]]-storedpatterns[comb[2]]))\n",
        "  spuriousstates0.append(np.sign(-storedpatterns[comb[0]]-storedpatterns[comb[1]]+storedpatterns[comb[2]]))\n",
        "  spuriousstates0.append(np.sign(-storedpatterns[comb[0]]-storedpatterns[comb[1]]-storedpatterns[comb[2]]))\n",
        "  ticker -= 1\n",
        "\n",
        "spuriousstates=np.array(spuriousstates0) #list containing 16 spurious states\n",
        "\n",
        "testpatterns=np.concatenate((storedpatterns,-storedpatterns,spuriousstates))\n",
        "\n",
        "percentretrievedstored = []\n",
        "percentretrievedspurious= []\n",
        "\n",
        "for temp in temps:\n",
        "  countstored=0\n",
        "  countspurious=0\n",
        "  for i in range(testpatterns.shape[0]):\n",
        "\n",
        "    if i >= p and i < 2*p:\n",
        "      continue #skips retrieval process for minus spurious states\n",
        "\n",
        "    retrievalsuccess=False\n",
        "    \n",
        "    noisy = noisify(testpatterns[i],noise)\n",
        "    retrieved = flow(noisy,weights,display=False,T=temp)\n",
        "    overlaps = compute_overlap_list(retrieved,testpatterns)\n",
        "    if np.argmax(overlaps)==i:\n",
        "      retrievalsuccess = True\n",
        "        \n",
        "    if retrievalsuccess:\n",
        "      if i < p:\n",
        "        countstored +=1\n",
        "      else:\n",
        "        countspurious +=1\n",
        "  percentretrievedstored.append(countstored/p)\n",
        "  percentretrievedspurious.append(countspurious/spuriousstates.shape[0])\n",
        "\n",
        "plt.plot(temps,percentretrievedstored, label='stored')\n",
        "plt.title('Percentage of Patterns Retrieved vs Temperature with {} Patterns'.format(p))\n",
        "plt.ylabel('Percentage Retrieved')\n",
        "plt.xlabel('Temperature')\n",
        "plt.plot(temps,percentretrievedspurious,label='spurious')\n",
        "plt.legend()\n",
        "plt.show()\n",
        "\n",
        "\n"
      ],
      "execution_count": null,
      "outputs": [
        {
          "output_type": "display_data",
          "data": {
            "image/png": "[encoded data removed]",
            "text/plain": [
              "<Figure size 432x288 with 1 Axes>"
            ]
          },
          "metadata": {
            "tags": [],
            "needs_background": "light"
          }
        }
      ]
    },
    {
      "cell_type": "markdown",
      "metadata": {
        "id": "W_pR_xG2eein",
        "colab_type": "text"
      },
      "source": [
        "Critical temperature for eliminating the spurious states\n"
      ]
    },
    {
      "cell_type": "markdown",
      "metadata": {
        "id": "UermcmhjXW8y",
        "colab_type": "text"
      },
      "source": [
        "# Question 3 Solution"
      ]
    },
    {
      "cell_type": "code",
      "metadata": {
        "id": "hh9Cr_DUXVac",
        "colab_type": "code",
        "colab": {
          "base_uri": "https://localhost:8080/",
          "height": 295
        },
        "outputId": "ceebef4a-e4d8-4d6a-ec92-04a7d5f80b61"
      },
      "source": [
        "numpatterns=np.arange(10,51)\n",
        "fset=np.linspace(0.1,1,10)\n",
        "N=100\n",
        "\n",
        "avgbasins=[]\n",
        "\n",
        "for p in numpatterns:\n",
        "  storedpatterns=generate_rand_patterns(N,p,0.5)\n",
        "  weights=set_weights(storedpatterns)\n",
        "\n",
        "  basins=np.zeros(p)\n",
        "  for i in range(p):\n",
        "    basins[i]=basinmodified(storedpatterns,i,weights,fset,4)\n",
        "  avgbasins.append(np.mean(basins))\n",
        "plt.plot(numpatterns,avgbasins)\n",
        "plt.title('Basin Size vs Number of Stored Patterns')\n",
        "plt.xlabel('Number of Stored Patterns')\n",
        "plt.ylabel('Overlap for 50 Percent Success')\n",
        "plt.show()\n",
        "\n",
        "\n",
        "\n"
      ],
      "execution_count": null,
      "outputs": [
        {
          "output_type": "display_data",
          "data": {
            "image/png": "[encoded data removed]",
            "text/plain": [
              "<Figure size 432x288 with 1 Axes>"
            ]
          },
          "metadata": {
            "tags": [],
            "needs_background": "light"
          }
        }
      ]
    },
    {
      "cell_type": "markdown",
      "metadata": {
        "id": "KA7EwJqso471",
        "colab_type": "text"
      },
      "source": [
        "From the plot above, we observe that if the number of stored patterns increases, the overlap required for 50 percent success increases. Hence the sizes of the basins of the stored patterns get smaller when the number of patterns increases."
      ]
    },
    {
      "cell_type": "markdown",
      "metadata": {
        "id": "s0IgaYXYeeio",
        "colab_type": "text"
      },
      "source": [
        "## Optional Exercise 3 [10 points]: Hopfield network - part 2: learning\n",
        "\n",
        "In this optional assignment we will use the Hebb rule to learn *orthogonal* patterns $\\xi_i^\\mu$ from presentation of noisy versions $\\rho_i^\\mu(f)$ of them. Even if the network was never presented with the patterns $\\xi_i^\\mu$, it will eventually learn them as average patterns.\n",
        "\n",
        "\n",
        "# Network training\n",
        "\n",
        "Train network with asynchronous updates for $nepochs$ batches. In each training batch, present each one of the noisy patterns $\\rho_i^\\mu(f)$ to the network, in random order. For each noisy pattern presentation $a=1,Nnoisy$, evolve the asynchronous network dynamics for $trialSteps$ steps with initial conditions equal to the network state $S_i(a-1)$ at the end of the previous presentation, with an external stimulus clamped to the noisy pattern presented, namely the i-th neuron's activation reads:\n",
        "$$\n",
        "h_i(t)=\\sum_{j=1}^Nw_{ij}S_j(t)+C\\xi_i^\\mu(a) \\ ,\\qquad S_i(t+1)=\\textrm{sign}(h_i(t)) \\ .\n",
        "$$\n",
        "Here $C$ is a scalar value representing the  stimulus strength. Store the network state $S_i(t)$ for $t=1,\\ldots,trialSteps$, then update the weights with the Hebbian rule\n",
        "$$\n",
        "\\Delta w_{ij}={\\eta\\over N^2} \\sum_{t=1}^{trialSteps} S_i(t)S_j(t)-\\eta\\alpha w_{ij} \\ ,\\qquad w_{ii}=0\\ ,\n",
        "$$\n",
        "where $\\alpha=1/N$ is a weight decay term.\n",
        "\n",
        "At each training epoch, test stability of original patterns $\\xi_i^\\mu$, and stop training when perfect overlap is achieved.\n",
        "\n",
        "Hint: use as parameters nunits=256, npatterns=4, Nnoisy$=5*nunits$, flipfrac$f=0.1$, learning rate $eta=0.001/Nnoisy$, weight decay $alpha=1/nunits"
      ]
    },
    {
      "cell_type": "code",
      "metadata": {
        "id": "_16ZKa0Eeeio",
        "colab_type": "code",
        "colab": {}
      },
      "source": [
        "train_data=generate_orth_patterns(nunits,4)    \n",
        "Nnoisy=5*nunits\n",
        "flipfrac=0.1\n",
        "train_noisy=np.zeros((npatterns*Nnoisy,nunits))\n",
        "\n",
        "for ip in range(npatterns):\n",
        "    for inoisy in range(Nnoisy):\n",
        "        tempPattern=noisify(train_data[ip],flipfrac)\n",
        "        train_noisy[inoisy+ip*Nnoisy,:]=tempPattern\n",
        "\n",
        "for ip in range(npatterns):\n",
        "    fix,ax=plt.subplots(1,10,figsize=(20,4))\n",
        "    fig.suptitle('corrupted pattern %s' % ip)\n",
        "    for inoisy in range(10):\n",
        "        plotpattern(train_noisy[inoisy+ip*Nnoisy],ax[inoisy],title='')"
      ],
      "execution_count": null,
      "outputs": []
    },
    {
      "cell_type": "code",
      "metadata": {
        "id": "DUob5P7ueeir",
        "colab_type": "code",
        "colab": {}
      },
      "source": [
        ""
      ],
      "execution_count": null,
      "outputs": []
    },
    {
      "cell_type": "code",
      "metadata": {
        "id": "ODp8Mro9eeiu",
        "colab_type": "code",
        "colab": {}
      },
      "source": [
        ""
      ],
      "execution_count": null,
      "outputs": []
    }
  ]
}